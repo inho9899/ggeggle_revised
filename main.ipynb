{
 "cells": [
  {
   "cell_type": "code",
   "execution_count": 1,
   "metadata": {},
   "outputs": [
    {
     "name": "stderr",
     "output_type": "stream",
     "text": [
      "c:\\Users\\inho9\\anaconda3\\envs\\dev\\Lib\\site-packages\\tqdm\\auto.py:21: TqdmWarning: IProgress not found. Please update jupyter and ipywidgets. See https://ipywidgets.readthedocs.io/en/stable/user_install.html\n",
      "  from .autonotebook import tqdm as notebook_tqdm\n"
     ]
    },
    {
     "name": "stdout",
     "output_type": "stream",
     "text": [
      "* Running on local URL:  http://127.0.0.1:7860\n",
      "\n",
      "To create a public link, set `share=True` in `launch()`.\n"
     ]
    },
    {
     "data": {
      "text/html": [
       "<div><iframe src=\"http://127.0.0.1:7860/\" width=\"100%\" height=\"500\" allow=\"autoplay; camera; microphone; clipboard-read; clipboard-write;\" frameborder=\"0\" allowfullscreen></iframe></div>"
      ],
      "text/plain": [
       "<IPython.core.display.HTML object>"
      ]
     },
     "metadata": {},
     "output_type": "display_data"
    }
   ],
   "source": [
    "## main.ipynb\n",
    "import gradio as gr\n",
    "from utility.usercustom import *\n",
    "from utility.wordrank import *\n",
    "from utility.textinput import *\n",
    "from ui.user_custom_ui import *\n",
    "from utility.dfs import *\n",
    "\n",
    "# 전역에서 매니저 인스턴스를 생성합니다.\n",
    "custom_manager = UserCustomManager()\n",
    "\n",
    "# 기존에는 단순 함수로 처리했던 것을 클래스를 활용하도록 수정합니다.\n",
    "def process_user_custom_data_class(A_exist, A_None, B_start, B_end, C_option):\n",
    "    # custom_manager.add_entry()를 통해 누적된 결과를 반환받습니다.\n",
    "    result = custom_manager.add_entry(A_exist, A_None, B_start, B_end, C_option)\n",
    "    # UI 영역(컨테이너)는 숨기고, 텍스트박스에는 누적된 결과를 표시합니다.\n",
    "    return gr.update(visible=False), result\n",
    "\n",
    "with gr.Blocks() as demo:\n",
    "    with gr.Row():\n",
    "        with gr.Column(scale=3):\n",
    "            upload_file = gr.File(show_label=False, file_types=[\".txt\"])\n",
    "            show_file = gr.Text(label=\"입력된 단어수\")\n",
    "            upload_file.change(fn=read_input_data, inputs=upload_file, outputs=show_file)\n",
    "\n",
    "            # 글자순위 추가 영역\n",
    "            with gr.Blocks():\n",
    "                with gr.Column(visible=False) as UI_add_word_rank:\n",
    "                    gr.Markdown(\"### 글자순위 추가 영역\")\n",
    "                    word_rank_input = gr.Textbox(label=\"글자 입력\", \n",
    "                                                 placeholder=\"예시) 가 : 각 1 그 3 트 10\", \n",
    "                                                 lines=3)\n",
    "                    with gr.Row():\n",
    "                        with gr.Column(scale=1):\n",
    "                            button_confirm_word_rank = gr.Button(value=\"추가\")\n",
    "                        with gr.Column(scale=1):\n",
    "                            button_cancel_word_rank = gr.Button(value=\"취소\")\n",
    "                    gr.Markdown('---')\n",
    "                button_cancel_word_rank.click(lambda: gr.update(visible=False), outputs=UI_add_word_rank)\n",
    "\n",
    "            # 유저 커스텀 추가 영역 (ui/user_custom_ui.py에 정의한 함수)\n",
    "            UI_show_user_custom, button_confirm_user_custom, button_cancel_user_custom, \\\n",
    "                A_exist, A_None, B_start, B_end, C_option = create_user_custom_ui()\n",
    "\n",
    "            with gr.Row():\n",
    "                with gr.Column(scale=1):\n",
    "                    button_add_word_rank = gr.Button(value=\"글자순위추가\")\n",
    "                with gr.Column(scale=1):\n",
    "                    button_add_user_custom = gr.Button(value=\"유저커스텀추가\")\n",
    "            button_find_with_dfs = gr.Button(value=\"탐색시작\")\n",
    "\n",
    "        with gr.Column(scale=2):\n",
    "            gr.Markdown('### 글자순위표')\n",
    "            with gr.Blocks() :\n",
    "                show_word_rank = gr.Markdown()\n",
    "            gr.Markdown('---')\n",
    "\n",
    "            gr.Markdown('### 유저커스텀목록표')\n",
    "            with gr.Blocks() :\n",
    "                show_user_custom = gr.Markdown()\n",
    "            gr.Markdown('---')\n",
    "            dfs_result = gr.Textbox(label=\"탐색결과\")\n",
    "\n",
    "    # 글자순위 추가 버튼 이벤트 (기존 함수 사용)\n",
    "    button_confirm_word_rank.click(\n",
    "        fn=confirm_word_rank, \n",
    "        inputs=[word_rank_input, gr.State(\"\")],\n",
    "        outputs=[UI_add_word_rank, show_word_rank]\n",
    "    )\n",
    "\n",
    "    # 각 영역을 보이도록 업데이트하는 버튼 이벤트\n",
    "    button_add_word_rank.click(lambda: gr.update(visible=True), outputs=UI_add_word_rank)\n",
    "    button_add_user_custom.click(lambda: gr.update(visible=True), outputs=UI_show_user_custom)\n",
    "    \n",
    "    # **유저 커스텀 추가 버튼 클릭 시, 클래스를 활용해 데이터를 누적시킵니다.**\n",
    "    button_confirm_user_custom.click(\n",
    "        fn=process_user_custom_data_class,\n",
    "        inputs=[A_exist, A_None, B_start, B_end, C_option],\n",
    "        outputs=[UI_show_user_custom, show_user_custom]\n",
    "    )\n",
    "\n",
    "    # 탐색시작 버튼 이벤트\n",
    "    button_find_with_dfs.click(\n",
    "        fn=find_with_dfs\n",
    "    )\n",
    "\n",
    "if __name__ == \"__main__\":\n",
    "    demo.launch()\n"
   ]
  },
  {
   "cell_type": "code",
   "execution_count": null,
   "metadata": {},
   "outputs": [],
   "source": []
  },
  {
   "cell_type": "code",
   "execution_count": null,
   "metadata": {},
   "outputs": [],
   "source": []
  }
 ],
 "metadata": {
  "kernelspec": {
   "display_name": "dev",
   "language": "python",
   "name": "python3"
  },
  "language_info": {
   "codemirror_mode": {
    "name": "ipython",
    "version": 3
   },
   "file_extension": ".py",
   "mimetype": "text/x-python",
   "name": "python",
   "nbconvert_exporter": "python",
   "pygments_lexer": "ipython3",
   "version": "3.12.8"
  }
 },
 "nbformat": 4,
 "nbformat_minor": 2
}
