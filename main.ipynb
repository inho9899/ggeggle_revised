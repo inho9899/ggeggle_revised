{
 "cells": [
  {
   "cell_type": "code",
   "execution_count": null,
   "metadata": {},
   "outputs": [
    {
     "name": "stdout",
     "output_type": "stream",
     "text": [
      "* Running on local URL:  http://127.0.0.1:7885\n",
      "\n",
      "To create a public link, set `share=True` in `launch()`.\n"
     ]
    },
    {
     "data": {
      "text/html": [
       "<div><iframe src=\"http://127.0.0.1:7885/\" width=\"100%\" height=\"500\" allow=\"autoplay; camera; microphone; clipboard-read; clipboard-write;\" frameborder=\"0\" allowfullscreen></iframe></div>"
      ],
      "text/plain": [
       "<IPython.core.display.HTML object>"
      ]
     },
     "metadata": {},
     "output_type": "display_data"
    }
   ],
   "source": [
    "import gradio as gr\n",
    "from utility.usercustom import *\n",
    "from utility.wordrank import *\n",
    "\n",
    "\n",
    "with gr.Blocks() as demo:\n",
    "    with gr.Row():\n",
    "        with gr.Column(scale=3):\n",
    "            upload_file = gr.File(show_label=False, file_types=[\".txt\"])\n",
    "            show_file = gr.Text(label=\"입력된 단어수\")\n",
    "\n",
    "            \n",
    "            with gr.Blocks():\n",
    "                with gr.Column(visible=False) as UI_add_word_rank:\n",
    "                    gr.Markdown(\"### 글자순위 추가 영역\")\n",
    "                    word_rank_input = gr.Textbox(label=\"글자 입력\", lines=3)\n",
    "                    with gr.Row():\n",
    "                        with gr.Column(scale=1):\n",
    "                            button_confirm_word_rank = gr.Button(value=\"추가\")\n",
    "                        with gr.Column(scale=1):\n",
    "                            button_cancel_word_rank = gr.Button(value=\"취소\")\n",
    "                    gr.Markdown('---')\n",
    "\n",
    "                button_confirm_word_rank.click(fn = confirm_word_rank ,inputs = (button_confirm_word_rank, word_rank_input), outputs=UI_add_word_rank)\n",
    "                button_cancel_word_rank.click(lambda: gr.update(visible=False), outputs=UI_add_word_rank)\n",
    "            \n",
    "            with gr.Blocks():\n",
    "                with gr.Column(visible=False) as UI_show_user_custom:\n",
    "                    gr.Markdown(\"### 유저 커스텀 추가 영역\")\n",
    "                    user_custom_input = gr.Textbox(label=\"커스텀 입력\", lines=3)\n",
    "                    with gr.Row():\n",
    "                        with gr.Column(scale=1):\n",
    "                            button_confirm_user_custom = gr.Button(value=\"추가\")\n",
    "                        with gr.Column(scale=1):\n",
    "                            button_cancel_user_custom = gr.Button(value=\"취소\")\n",
    "\n",
    "                    gr.Markdown('---')\n",
    "\n",
    "                button_confirm_user_custom.click(lambda: gr.update(visible=False), outputs=UI_show_user_custom)\n",
    "                button_cancel_user_custom.click(lambda: gr.update(visible=False), outputs=UI_show_user_custom)\n",
    "\n",
    "            with gr.Row():\n",
    "                with gr.Column(scale=1):\n",
    "                    button_add_word_rank = gr.Button(value=\"글자순위추가\")\n",
    "                with gr.Column(scale=1):\n",
    "                    button_add_user_custom = gr.Button(value=\"유저커스텀추가\")\n",
    "\n",
    "            button_find_with_dfs = gr.Button(value=\"탐색시작\")\n",
    "\n",
    "        with gr.Column(scale=2):\n",
    "            show_word_rank = gr.Textbox(label=\"글자순위목록표\", lines=10)\n",
    "            show_user_custom = gr.Textbox(label=\"유저커스텀목록표\", lines=10)\n",
    "            gr.Markdown('---')\n",
    "            dfs_result = gr.Textbox(label=\"탐색결과\")\n",
    "\n",
    "    button_add_word_rank.click(lambda: gr.update(visible=True), outputs=UI_add_word_rank)\n",
    "    button_add_user_custom.click(lambda: gr.update(visible=True), outputs=UI_show_user_custom)\n",
    "\n",
    "if __name__ == \"__main__\":\n",
    "    demo.launch()\n"
   ]
  },
  {
   "cell_type": "code",
   "execution_count": null,
   "metadata": {},
   "outputs": [],
   "source": []
  },
  {
   "cell_type": "code",
   "execution_count": null,
   "metadata": {},
   "outputs": [],
   "source": []
  }
 ],
 "metadata": {
  "kernelspec": {
   "display_name": "dev",
   "language": "python",
   "name": "python3"
  },
  "language_info": {
   "codemirror_mode": {
    "name": "ipython",
    "version": 3
   },
   "file_extension": ".py",
   "mimetype": "text/x-python",
   "name": "python",
   "nbconvert_exporter": "python",
   "pygments_lexer": "ipython3",
   "version": "3.12.8"
  }
 },
 "nbformat": 4,
 "nbformat_minor": 2
}
